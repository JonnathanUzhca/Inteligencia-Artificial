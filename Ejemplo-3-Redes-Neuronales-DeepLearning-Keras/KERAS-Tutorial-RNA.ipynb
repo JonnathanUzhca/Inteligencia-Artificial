{
 "cells": [
  {
   "cell_type": "code",
   "execution_count": 2,
   "metadata": {},
   "outputs": [],
   "source": [
    "import pandas as pd\n",
    "import numpy as np\n",
    "import seaborn as sns\n",
    "import matplotlib.pyplot as pp\n",
    "\n",
    "import keras\n",
    "from keras.models import Sequential\n",
    "from keras.layers import Dense\n",
    "\n",
    "from sklearn.model_selection import train_test_split\n",
    "from sklearn.preprocessing import MinMaxScaler, StandardScaler"
   ]
  },
  {
   "cell_type": "markdown",
   "metadata": {},
   "source": [
    "# Carga de los datos en un DataFrame"
   ]
  },
  {
   "cell_type": "code",
   "execution_count": 4,
   "metadata": {},
   "outputs": [
    {
     "data": {
      "text/html": [
       "<div>\n",
       "<style scoped>\n",
       "    .dataframe tbody tr th:only-of-type {\n",
       "        vertical-align: middle;\n",
       "    }\n",
       "\n",
       "    .dataframe tbody tr th {\n",
       "        vertical-align: top;\n",
       "    }\n",
       "\n",
       "    .dataframe thead th {\n",
       "        text-align: right;\n",
       "    }\n",
       "</style>\n",
       "<table border=\"1\" class=\"dataframe\">\n",
       "  <thead>\n",
       "    <tr style=\"text-align: right;\">\n",
       "      <th></th>\n",
       "      <th>Pregnancies</th>\n",
       "      <th>Glucose</th>\n",
       "      <th>BloodPressure</th>\n",
       "      <th>SkinThickness</th>\n",
       "      <th>Insulin</th>\n",
       "      <th>BMI</th>\n",
       "      <th>DiabetesPedigreeFunction</th>\n",
       "      <th>Age</th>\n",
       "      <th>Outcome</th>\n",
       "    </tr>\n",
       "  </thead>\n",
       "  <tbody>\n",
       "    <tr>\n",
       "      <th>0</th>\n",
       "      <td>6</td>\n",
       "      <td>148</td>\n",
       "      <td>72</td>\n",
       "      <td>35</td>\n",
       "      <td>0</td>\n",
       "      <td>33.6</td>\n",
       "      <td>0.627</td>\n",
       "      <td>50</td>\n",
       "      <td>1</td>\n",
       "    </tr>\n",
       "    <tr>\n",
       "      <th>1</th>\n",
       "      <td>1</td>\n",
       "      <td>85</td>\n",
       "      <td>66</td>\n",
       "      <td>29</td>\n",
       "      <td>0</td>\n",
       "      <td>26.6</td>\n",
       "      <td>0.351</td>\n",
       "      <td>31</td>\n",
       "      <td>0</td>\n",
       "    </tr>\n",
       "    <tr>\n",
       "      <th>2</th>\n",
       "      <td>8</td>\n",
       "      <td>183</td>\n",
       "      <td>64</td>\n",
       "      <td>0</td>\n",
       "      <td>0</td>\n",
       "      <td>23.3</td>\n",
       "      <td>0.672</td>\n",
       "      <td>32</td>\n",
       "      <td>1</td>\n",
       "    </tr>\n",
       "    <tr>\n",
       "      <th>3</th>\n",
       "      <td>1</td>\n",
       "      <td>89</td>\n",
       "      <td>66</td>\n",
       "      <td>23</td>\n",
       "      <td>94</td>\n",
       "      <td>28.1</td>\n",
       "      <td>0.167</td>\n",
       "      <td>21</td>\n",
       "      <td>0</td>\n",
       "    </tr>\n",
       "    <tr>\n",
       "      <th>4</th>\n",
       "      <td>0</td>\n",
       "      <td>137</td>\n",
       "      <td>40</td>\n",
       "      <td>35</td>\n",
       "      <td>168</td>\n",
       "      <td>43.1</td>\n",
       "      <td>2.288</td>\n",
       "      <td>33</td>\n",
       "      <td>1</td>\n",
       "    </tr>\n",
       "  </tbody>\n",
       "</table>\n",
       "</div>"
      ],
      "text/plain": [
       "   Pregnancies  Glucose  BloodPressure  SkinThickness  Insulin   BMI  \\\n",
       "0            6      148             72             35        0  33.6   \n",
       "1            1       85             66             29        0  26.6   \n",
       "2            8      183             64              0        0  23.3   \n",
       "3            1       89             66             23       94  28.1   \n",
       "4            0      137             40             35      168  43.1   \n",
       "\n",
       "   DiabetesPedigreeFunction  Age  Outcome  \n",
       "0                     0.627   50        1  \n",
       "1                     0.351   31        0  \n",
       "2                     0.672   32        1  \n",
       "3                     0.167   21        0  \n",
       "4                     2.288   33        1  "
      ]
     },
     "execution_count": 4,
     "metadata": {},
     "output_type": "execute_result"
    }
   ],
   "source": [
    "data = pd.read_csv('diabetes.csv')\n",
    "data.head()"
   ]
  },
  {
   "cell_type": "markdown",
   "metadata": {},
   "source": [
    "# Determinamos si los datos están correlacionados o no\n",
    "Es importante tomar en cuenta que si existe una correlación (positiva o negativa) fuerte entre dos variables, es probable que la variable dependiente no me provee información de gran utilidad para entrenar mi red neuronal."
   ]
  },
  {
   "cell_type": "code",
   "execution_count": 7,
   "metadata": {},
   "outputs": [
    {
     "data": {
      "text/plain": [
       "<AxesSubplot:>"
      ]
     },
     "execution_count": 7,
     "metadata": {},
     "output_type": "execute_result"
    },
    {
     "data": {
      "image/png": "[encoded data removed]",
      "text/plain": [
       "<Figure size 432x288 with 2 Axes>"
      ]
     },
     "metadata": {
      "needs_background": "light"
     },
     "output_type": "display_data"
    }
   ],
   "source": [
    "correlacion = data.corr()\n",
    "sns.heatmap(correlacion, xticklabels = correlacion.columns.values, yticklabels = correlacion.columns.values)"
   ]
  },
  {
   "cell_type": "code",
   "execution_count": 9,
   "metadata": {},
   "outputs": [
    {
     "data": {
      "text/plain": [
       "-0.08167177444900707"
      ]
     },
     "execution_count": 9,
     "metadata": {},
     "output_type": "execute_result"
    }
   ],
   "source": [
    "data['SkinThickness'].corr(data['Pregnancies'])"
   ]
  },
  {
   "cell_type": "code",
   "execution_count": 12,
   "metadata": {},
   "outputs": [
    {
     "data": {
      "text/plain": [
       "0.54434122840234"
      ]
     },
     "execution_count": 12,
     "metadata": {},
     "output_type": "execute_result"
    }
   ],
   "source": [
    "data['Age'].corr(data['Pregnancies'])"
   ]
  },
  {
   "cell_type": "markdown",
   "metadata": {},
   "source": [
    "Si determinamos que existe una correlación fuerte entre dos o más variables, podemos probar quitando una de las variables (dependiente) del conjunto de datos y ver el efecto que tiene en la red neuronal."
   ]
  },
  {
   "cell_type": "markdown",
   "metadata": {},
   "source": [
    "# Normalización de los datos"
   ]
  },
  {
   "cell_type": "code",
   "execution_count": 15,
   "metadata": {},
   "outputs": [
    {
     "data": {
      "text/html": [
       "<div>\n",
       "<style scoped>\n",
       "    .dataframe tbody tr th:only-of-type {\n",
       "        vertical-align: middle;\n",
       "    }\n",
       "\n",
       "    .dataframe tbody tr th {\n",
       "        vertical-align: top;\n",
       "    }\n",
       "\n",
       "    .dataframe thead th {\n",
       "        text-align: right;\n",
       "    }\n",
       "</style>\n",
       "<table border=\"1\" class=\"dataframe\">\n",
       "  <thead>\n",
       "    <tr style=\"text-align: right;\">\n",
       "      <th></th>\n",
       "      <th>Pregnancies</th>\n",
       "      <th>Glucose</th>\n",
       "      <th>BloodPressure</th>\n",
       "      <th>SkinThickness</th>\n",
       "      <th>Insulin</th>\n",
       "      <th>BMI</th>\n",
       "      <th>DiabetesPedigreeFunction</th>\n",
       "      <th>Age</th>\n",
       "    </tr>\n",
       "  </thead>\n",
       "  <tbody>\n",
       "    <tr>\n",
       "      <th>0</th>\n",
       "      <td>6</td>\n",
       "      <td>148</td>\n",
       "      <td>72</td>\n",
       "      <td>35</td>\n",
       "      <td>0</td>\n",
       "      <td>33.6</td>\n",
       "      <td>0.627</td>\n",
       "      <td>50</td>\n",
       "    </tr>\n",
       "    <tr>\n",
       "      <th>1</th>\n",
       "      <td>1</td>\n",
       "      <td>85</td>\n",
       "      <td>66</td>\n",
       "      <td>29</td>\n",
       "      <td>0</td>\n",
       "      <td>26.6</td>\n",
       "      <td>0.351</td>\n",
       "      <td>31</td>\n",
       "    </tr>\n",
       "    <tr>\n",
       "      <th>2</th>\n",
       "      <td>8</td>\n",
       "      <td>183</td>\n",
       "      <td>64</td>\n",
       "      <td>0</td>\n",
       "      <td>0</td>\n",
       "      <td>23.3</td>\n",
       "      <td>0.672</td>\n",
       "      <td>32</td>\n",
       "    </tr>\n",
       "    <tr>\n",
       "      <th>3</th>\n",
       "      <td>1</td>\n",
       "      <td>89</td>\n",
       "      <td>66</td>\n",
       "      <td>23</td>\n",
       "      <td>94</td>\n",
       "      <td>28.1</td>\n",
       "      <td>0.167</td>\n",
       "      <td>21</td>\n",
       "    </tr>\n",
       "    <tr>\n",
       "      <th>4</th>\n",
       "      <td>0</td>\n",
       "      <td>137</td>\n",
       "      <td>40</td>\n",
       "      <td>35</td>\n",
       "      <td>168</td>\n",
       "      <td>43.1</td>\n",
       "      <td>2.288</td>\n",
       "      <td>33</td>\n",
       "    </tr>\n",
       "  </tbody>\n",
       "</table>\n",
       "</div>"
      ],
      "text/plain": [
       "   Pregnancies  Glucose  BloodPressure  SkinThickness  Insulin   BMI  \\\n",
       "0            6      148             72             35        0  33.6   \n",
       "1            1       85             66             29        0  26.6   \n",
       "2            8      183             64              0        0  23.3   \n",
       "3            1       89             66             23       94  28.1   \n",
       "4            0      137             40             35      168  43.1   \n",
       "\n",
       "   DiabetesPedigreeFunction  Age  \n",
       "0                     0.627   50  \n",
       "1                     0.351   31  \n",
       "2                     0.672   32  \n",
       "3                     0.167   21  \n",
       "4                     2.288   33  "
      ]
     },
     "execution_count": 15,
     "metadata": {},
     "output_type": "execute_result"
    }
   ],
   "source": [
    "X = data.iloc[:,0:8]\n",
    "X.head()"
   ]
  },
  {
   "cell_type": "markdown",
   "metadata": {},
   "source": [
    "## Normalización de datos en base a una escala (rango)"
   ]
  },
  {
   "cell_type": "code",
   "execution_count": 17,
   "metadata": {},
   "outputs": [
    {
     "data": {
      "text/plain": [
       "array([[-0.29411765,  0.48743719,  0.18032787, ...,  0.00149031,\n",
       "        -0.53116994, -0.03333333],\n",
       "       [-0.88235294, -0.14572864,  0.08196721, ..., -0.2071535 ,\n",
       "        -0.76686593, -0.66666667],\n",
       "       [-0.05882353,  0.83919598,  0.04918033, ..., -0.30551416,\n",
       "        -0.49274125, -0.63333333],\n",
       "       ...,\n",
       "       [-0.41176471,  0.2160804 ,  0.18032787, ..., -0.21907601,\n",
       "        -0.85738685, -0.7       ],\n",
       "       [-0.88235294,  0.26633166, -0.01639344, ..., -0.10283159,\n",
       "        -0.76857387, -0.13333333],\n",
       "       [-0.88235294, -0.06532663,  0.14754098, ..., -0.09388972,\n",
       "        -0.79760888, -0.93333333]])"
      ]
     },
     "execution_count": 17,
     "metadata": {},
     "output_type": "execute_result"
    }
   ],
   "source": [
    "minMaxScaler = MinMaxScaler(feature_range = (-1,1))\n",
    "X_MinMax = minMaxScaler.fit_transform(X)\n",
    "X_MinMax"
   ]
  },
  {
   "cell_type": "code",
   "execution_count": 19,
   "metadata": {},
   "outputs": [
    {
     "data": {
      "text/plain": [
       "array([[ 0.63994726,  0.84832379,  0.14964075, ...,  0.20401277,\n",
       "         0.46849198,  1.4259954 ],\n",
       "       [-0.84488505, -1.12339636, -0.16054575, ..., -0.68442195,\n",
       "        -0.36506078, -0.19067191],\n",
       "       [ 1.23388019,  1.94372388, -0.26394125, ..., -1.10325546,\n",
       "         0.60439732, -0.10558415],\n",
       "       ...,\n",
       "       [ 0.3429808 ,  0.00330087,  0.14964075, ..., -0.73518964,\n",
       "        -0.68519336, -0.27575966],\n",
       "       [-0.84488505,  0.1597866 , -0.47073225, ..., -0.24020459,\n",
       "        -0.37110101,  1.17073215],\n",
       "       [-0.84488505, -0.8730192 ,  0.04624525, ..., -0.20212881,\n",
       "        -0.47378505, -0.87137393]])"
      ]
     },
     "execution_count": 19,
     "metadata": {},
     "output_type": "execute_result"
    }
   ],
   "source": [
    "standardScaler = StandardScaler()\n",
    "X_Standard = standardScaler.fit_transform(X)\n",
    "X_Standard"
   ]
  },
  {
   "cell_type": "markdown",
   "metadata": {},
   "source": [
    "## Ejemplo para obtener Hot Encoding"
   ]
  },
  {
   "cell_type": "code",
   "execution_count": 22,
   "metadata": {},
   "outputs": [
    {
     "data": {
      "text/html": [
       "<div>\n",
       "<style scoped>\n",
       "    .dataframe tbody tr th:only-of-type {\n",
       "        vertical-align: middle;\n",
       "    }\n",
       "\n",
       "    .dataframe tbody tr th {\n",
       "        vertical-align: top;\n",
       "    }\n",
       "\n",
       "    .dataframe thead th {\n",
       "        text-align: right;\n",
       "    }\n",
       "</style>\n",
       "<table border=\"1\" class=\"dataframe\">\n",
       "  <thead>\n",
       "    <tr style=\"text-align: right;\">\n",
       "      <th></th>\n",
       "      <th>Class_0</th>\n",
       "      <th>Class_1</th>\n",
       "    </tr>\n",
       "  </thead>\n",
       "  <tbody>\n",
       "    <tr>\n",
       "      <th>0</th>\n",
       "      <td>0</td>\n",
       "      <td>1</td>\n",
       "    </tr>\n",
       "    <tr>\n",
       "      <th>1</th>\n",
       "      <td>1</td>\n",
       "      <td>0</td>\n",
       "    </tr>\n",
       "    <tr>\n",
       "      <th>2</th>\n",
       "      <td>0</td>\n",
       "      <td>1</td>\n",
       "    </tr>\n",
       "    <tr>\n",
       "      <th>3</th>\n",
       "      <td>1</td>\n",
       "      <td>0</td>\n",
       "    </tr>\n",
       "    <tr>\n",
       "      <th>4</th>\n",
       "      <td>0</td>\n",
       "      <td>1</td>\n",
       "    </tr>\n",
       "    <tr>\n",
       "      <th>...</th>\n",
       "      <td>...</td>\n",
       "      <td>...</td>\n",
       "    </tr>\n",
       "    <tr>\n",
       "      <th>763</th>\n",
       "      <td>1</td>\n",
       "      <td>0</td>\n",
       "    </tr>\n",
       "    <tr>\n",
       "      <th>764</th>\n",
       "      <td>1</td>\n",
       "      <td>0</td>\n",
       "    </tr>\n",
       "    <tr>\n",
       "      <th>765</th>\n",
       "      <td>1</td>\n",
       "      <td>0</td>\n",
       "    </tr>\n",
       "    <tr>\n",
       "      <th>766</th>\n",
       "      <td>0</td>\n",
       "      <td>1</td>\n",
       "    </tr>\n",
       "    <tr>\n",
       "      <th>767</th>\n",
       "      <td>1</td>\n",
       "      <td>0</td>\n",
       "    </tr>\n",
       "  </tbody>\n",
       "</table>\n",
       "<p>768 rows × 2 columns</p>\n",
       "</div>"
      ],
      "text/plain": [
       "     Class_0  Class_1\n",
       "0          0        1\n",
       "1          1        0\n",
       "2          0        1\n",
       "3          1        0\n",
       "4          0        1\n",
       "..       ...      ...\n",
       "763        1        0\n",
       "764        1        0\n",
       "765        1        0\n",
       "766        0        1\n",
       "767        1        0\n",
       "\n",
       "[768 rows x 2 columns]"
      ]
     },
     "execution_count": 22,
     "metadata": {},
     "output_type": "execute_result"
    }
   ],
   "source": [
    "dh = pd.get_dummies(data.Outcome, prefix = 'Class')\n",
    "dh"
   ]
  },
  {
   "cell_type": "markdown",
   "metadata": {},
   "source": [
    "## División del Corpus en Entrenamiento (Train) y Pruebas (Test)"
   ]
  },
  {
   "cell_type": "code",
   "execution_count": 23,
   "metadata": {},
   "outputs": [],
   "source": [
    "X_train, X_test, y_train, y_test = train_test_split(X_Standard, data.Outcome, test_size = 0.2,\n",
    "                                                    stratify = data.Outcome, random_state = 773)"
   ]
  },
  {
   "cell_type": "markdown",
   "metadata": {},
   "source": [
    "# Creación de una Red Neuronal usando KERAS"
   ]
  },
  {
   "cell_type": "code",
   "execution_count": 24,
   "metadata": {},
   "outputs": [],
   "source": [
    "model = Sequential()\n",
    "model.add(Dense(8, activation = 'relu', input_shape = (8, )))\n",
    "model.add(Dense(10, activation = 'relu'))\n",
    "model.add(Dense(1, activation = 'sigmoid'))"
   ]
  },
  {
   "cell_type": "markdown",
   "metadata": {},
   "source": [
    "## Compilación y entrenamiento de la red neuronal SEQUENTIAL"
   ]
  },
  {
   "cell_type": "code",
   "execution_count": 25,
   "metadata": {},
   "outputs": [
    {
     "name": "stdout",
     "output_type": "stream",
     "text": [
      "Epoch 1/100\n",
      "614/614 [==============================] - 1s 2ms/step - loss: 0.5725 - accuracy: 0.6612\n",
      "Epoch 2/100\n",
      "614/614 [==============================] - 1s 2ms/step - loss: 0.5110 - accuracy: 0.7150\n",
      "Epoch 3/100\n",
      "614/614 [==============================] - 1s 2ms/step - loss: 0.4910 - accuracy: 0.7492\n",
      "Epoch 4/100\n",
      "614/614 [==============================] - 1s 2ms/step - loss: 0.4796 - accuracy: 0.7687\n",
      "Epoch 5/100\n",
      "614/614 [==============================] - 1s 2ms/step - loss: 0.4718 - accuracy: 0.7769\n",
      "Epoch 6/100\n",
      "614/614 [==============================] - 1s 2ms/step - loss: 0.4623 - accuracy: 0.7834\n",
      "Epoch 7/100\n",
      "614/614 [==============================] - 1s 2ms/step - loss: 0.4613 - accuracy: 0.7818\n",
      "Epoch 8/100\n",
      "614/614 [==============================] - 1s 2ms/step - loss: 0.4569 - accuracy: 0.7769\n",
      "Epoch 9/100\n",
      "614/614 [==============================] - 1s 2ms/step - loss: 0.4463 - accuracy: 0.7915\n",
      "Epoch 10/100\n",
      "614/614 [==============================] - 1s 2ms/step - loss: 0.4481 - accuracy: 0.7964\n",
      "Epoch 11/100\n",
      "614/614 [==============================] - 1s 2ms/step - loss: 0.4422 - accuracy: 0.7915\n",
      "Epoch 12/100\n",
      "614/614 [==============================] - 1s 2ms/step - loss: 0.4421 - accuracy: 0.8013\n",
      "Epoch 13/100\n",
      "614/614 [==============================] - 1s 2ms/step - loss: 0.4334 - accuracy: 0.8078\n",
      "Epoch 14/100\n",
      "614/614 [==============================] - 1s 2ms/step - loss: 0.4355 - accuracy: 0.7899\n",
      "Epoch 15/100\n",
      "614/614 [==============================] - 1s 2ms/step - loss: 0.4362 - accuracy: 0.7980\n",
      "Epoch 16/100\n",
      "614/614 [==============================] - 1s 2ms/step - loss: 0.4319 - accuracy: 0.8111\n",
      "Epoch 17/100\n",
      "614/614 [==============================] - 1s 2ms/step - loss: 0.4319 - accuracy: 0.8111\n",
      "Epoch 18/100\n",
      "614/614 [==============================] - 1s 2ms/step - loss: 0.4300 - accuracy: 0.8029\n",
      "Epoch 19/100\n",
      "614/614 [==============================] - 1s 2ms/step - loss: 0.4274 - accuracy: 0.7997\n",
      "Epoch 20/100\n",
      "614/614 [==============================] - 1s 2ms/step - loss: 0.4278 - accuracy: 0.7980\n",
      "Epoch 21/100\n",
      "614/614 [==============================] - 1s 2ms/step - loss: 0.4236 - accuracy: 0.8094\n",
      "Epoch 22/100\n",
      "614/614 [==============================] - 1s 2ms/step - loss: 0.4220 - accuracy: 0.8225\n",
      "Epoch 23/100\n",
      "614/614 [==============================] - 1s 2ms/step - loss: 0.4189 - accuracy: 0.8143\n",
      "Epoch 24/100\n",
      "614/614 [==============================] - 1s 2ms/step - loss: 0.4215 - accuracy: 0.8176\n",
      "Epoch 25/100\n",
      "614/614 [==============================] - 1s 2ms/step - loss: 0.4174 - accuracy: 0.8160\n",
      "Epoch 26/100\n",
      "614/614 [==============================] - 1s 2ms/step - loss: 0.4192 - accuracy: 0.8127\n",
      "Epoch 27/100\n",
      "614/614 [==============================] - 1s 2ms/step - loss: 0.4102 - accuracy: 0.8241\n",
      "Epoch 28/100\n",
      "614/614 [==============================] - 1s 2ms/step - loss: 0.4188 - accuracy: 0.8127\n",
      "Epoch 29/100\n",
      "614/614 [==============================] - 1s 2ms/step - loss: 0.4135 - accuracy: 0.8127\n",
      "Epoch 30/100\n",
      "614/614 [==============================] - 1s 2ms/step - loss: 0.4089 - accuracy: 0.8143\n",
      "Epoch 31/100\n",
      "614/614 [==============================] - 1s 2ms/step - loss: 0.4089 - accuracy: 0.8111\n",
      "Epoch 32/100\n",
      "614/614 [==============================] - 1s 2ms/step - loss: 0.4110 - accuracy: 0.8143\n",
      "Epoch 33/100\n",
      "614/614 [==============================] - 1s 2ms/step - loss: 0.4116 - accuracy: 0.8225\n",
      "Epoch 34/100\n",
      "614/614 [==============================] - 1s 2ms/step - loss: 0.4089 - accuracy: 0.8208\n",
      "Epoch 35/100\n",
      "614/614 [==============================] - 1s 2ms/step - loss: 0.4084 - accuracy: 0.8176\n",
      "Epoch 36/100\n",
      "614/614 [==============================] - 1s 2ms/step - loss: 0.4085 - accuracy: 0.8143\n",
      "Epoch 37/100\n",
      "614/614 [==============================] - 1s 2ms/step - loss: 0.4063 - accuracy: 0.8241\n",
      "Epoch 38/100\n",
      "614/614 [==============================] - 1s 2ms/step - loss: 0.4065 - accuracy: 0.8094\n",
      "Epoch 39/100\n",
      "614/614 [==============================] - 1s 2ms/step - loss: 0.4048 - accuracy: 0.8355\n",
      "Epoch 40/100\n",
      "614/614 [==============================] - 1s 2ms/step - loss: 0.4050 - accuracy: 0.8192\n",
      "Epoch 41/100\n",
      "614/614 [==============================] - 1s 2ms/step - loss: 0.3985 - accuracy: 0.8274\n",
      "Epoch 42/100\n",
      "614/614 [==============================] - 1s 2ms/step - loss: 0.4039 - accuracy: 0.8192\n",
      "Epoch 43/100\n",
      "614/614 [==============================] - 1s 2ms/step - loss: 0.4042 - accuracy: 0.8046\n",
      "Epoch 44/100\n",
      "614/614 [==============================] - 1s 2ms/step - loss: 0.4045 - accuracy: 0.8257\n",
      "Epoch 45/100\n",
      "614/614 [==============================] - 1s 2ms/step - loss: 0.3990 - accuracy: 0.8241\n",
      "Epoch 46/100\n",
      "614/614 [==============================] - 1s 2ms/step - loss: 0.4033 - accuracy: 0.8208\n",
      "Epoch 47/100\n",
      "614/614 [==============================] - 1s 2ms/step - loss: 0.3957 - accuracy: 0.8257\n",
      "Epoch 48/100\n",
      "614/614 [==============================] - 1s 2ms/step - loss: 0.4008 - accuracy: 0.8241\n",
      "Epoch 49/100\n",
      "614/614 [==============================] - 1s 2ms/step - loss: 0.3917 - accuracy: 0.8241\n",
      "Epoch 50/100\n",
      "614/614 [==============================] - 1s 2ms/step - loss: 0.3955 - accuracy: 0.8160\n",
      "Epoch 51/100\n",
      "614/614 [==============================] - 1s 2ms/step - loss: 0.3959 - accuracy: 0.8127\n",
      "Epoch 52/100\n",
      "614/614 [==============================] - 1s 2ms/step - loss: 0.3927 - accuracy: 0.8176\n",
      "Epoch 53/100\n",
      "614/614 [==============================] - 1s 2ms/step - loss: 0.3941 - accuracy: 0.8176\n",
      "Epoch 54/100\n",
      "614/614 [==============================] - 1s 2ms/step - loss: 0.3939 - accuracy: 0.8241\n",
      "Epoch 55/100\n",
      "614/614 [==============================] - 1s 2ms/step - loss: 0.3955 - accuracy: 0.8160\n",
      "Epoch 56/100\n",
      "614/614 [==============================] - 1s 2ms/step - loss: 0.3901 - accuracy: 0.8290\n",
      "Epoch 57/100\n",
      "614/614 [==============================] - 1s 2ms/step - loss: 0.3874 - accuracy: 0.8290\n",
      "Epoch 58/100\n",
      "614/614 [==============================] - 1s 2ms/step - loss: 0.3963 - accuracy: 0.8306\n",
      "Epoch 59/100\n",
      "614/614 [==============================] - 1s 2ms/step - loss: 0.3934 - accuracy: 0.8143\n",
      "Epoch 60/100\n",
      "614/614 [==============================] - 1s 2ms/step - loss: 0.3916 - accuracy: 0.8274\n",
      "Epoch 61/100\n",
      "614/614 [==============================] - 1s 2ms/step - loss: 0.3882 - accuracy: 0.8306\n",
      "Epoch 62/100\n",
      "614/614 [==============================] - 1s 2ms/step - loss: 0.3897 - accuracy: 0.8225\n",
      "Epoch 63/100\n",
      "614/614 [==============================] - 1s 2ms/step - loss: 0.3875 - accuracy: 0.8290\n",
      "Epoch 64/100\n",
      "614/614 [==============================] - 1s 2ms/step - loss: 0.3843 - accuracy: 0.8225\n",
      "Epoch 65/100\n",
      "614/614 [==============================] - 1s 2ms/step - loss: 0.3884 - accuracy: 0.8208\n",
      "Epoch 66/100\n",
      "614/614 [==============================] - 1s 2ms/step - loss: 0.3892 - accuracy: 0.8274\n",
      "Epoch 67/100\n",
      "614/614 [==============================] - 1s 2ms/step - loss: 0.3850 - accuracy: 0.8274\n",
      "Epoch 68/100\n",
      "614/614 [==============================] - 1s 2ms/step - loss: 0.3834 - accuracy: 0.8225\n",
      "Epoch 69/100\n",
      "614/614 [==============================] - 1s 2ms/step - loss: 0.3814 - accuracy: 0.8274\n",
      "Epoch 70/100\n",
      "614/614 [==============================] - 1s 2ms/step - loss: 0.3821 - accuracy: 0.8274\n",
      "Epoch 71/100\n",
      "614/614 [==============================] - 1s 2ms/step - loss: 0.3862 - accuracy: 0.8241\n",
      "Epoch 72/100\n",
      "614/614 [==============================] - 1s 2ms/step - loss: 0.3819 - accuracy: 0.8306\n",
      "Epoch 73/100\n",
      "614/614 [==============================] - 1s 2ms/step - loss: 0.3731 - accuracy: 0.8404\n",
      "Epoch 74/100\n",
      "614/614 [==============================] - 1s 2ms/step - loss: 0.3840 - accuracy: 0.8143\n",
      "Epoch 75/100\n",
      "614/614 [==============================] - 1s 2ms/step - loss: 0.3816 - accuracy: 0.8274\n",
      "Epoch 76/100\n",
      "614/614 [==============================] - 1s 2ms/step - loss: 0.3758 - accuracy: 0.8404\n",
      "Epoch 77/100\n",
      "614/614 [==============================] - 1s 2ms/step - loss: 0.3749 - accuracy: 0.8257\n",
      "Epoch 78/100\n",
      "614/614 [==============================] - 1s 2ms/step - loss: 0.3746 - accuracy: 0.8290\n",
      "Epoch 79/100\n",
      "614/614 [==============================] - 1s 2ms/step - loss: 0.3721 - accuracy: 0.8290\n",
      "Epoch 80/100\n",
      "614/614 [==============================] - 1s 2ms/step - loss: 0.3695 - accuracy: 0.8306\n",
      "Epoch 81/100\n",
      "614/614 [==============================] - 1s 2ms/step - loss: 0.3746 - accuracy: 0.8339\n",
      "Epoch 82/100\n",
      "614/614 [==============================] - 1s 2ms/step - loss: 0.3712 - accuracy: 0.8420\n",
      "Epoch 83/100\n",
      "614/614 [==============================] - 1s 2ms/step - loss: 0.3697 - accuracy: 0.8192\n",
      "Epoch 84/100\n",
      "614/614 [==============================] - 1s 2ms/step - loss: 0.3714 - accuracy: 0.8453\n",
      "Epoch 85/100\n",
      "614/614 [==============================] - 1s 2ms/step - loss: 0.3762 - accuracy: 0.8371\n",
      "Epoch 86/100\n",
      "614/614 [==============================] - 1s 2ms/step - loss: 0.3730 - accuracy: 0.8388\n",
      "Epoch 87/100\n",
      "614/614 [==============================] - 1s 2ms/step - loss: 0.3754 - accuracy: 0.8306\n",
      "Epoch 88/100\n",
      "614/614 [==============================] - 1s 2ms/step - loss: 0.3700 - accuracy: 0.8274\n",
      "Epoch 89/100\n",
      "614/614 [==============================] - 1s 2ms/step - loss: 0.3662 - accuracy: 0.8355\n",
      "Epoch 90/100\n",
      "614/614 [==============================] - 1s 2ms/step - loss: 0.3680 - accuracy: 0.8274\n",
      "Epoch 91/100\n",
      "614/614 [==============================] - 1s 2ms/step - loss: 0.3747 - accuracy: 0.8241\n",
      "Epoch 92/100\n",
      "614/614 [==============================] - 1s 2ms/step - loss: 0.3700 - accuracy: 0.8404\n",
      "Epoch 93/100\n",
      "614/614 [==============================] - 1s 2ms/step - loss: 0.3641 - accuracy: 0.8339\n",
      "Epoch 94/100\n",
      "614/614 [==============================] - 1s 2ms/step - loss: 0.3676 - accuracy: 0.8306\n",
      "Epoch 95/100\n",
      "614/614 [==============================] - 1s 2ms/step - loss: 0.3641 - accuracy: 0.8453\n",
      "Epoch 96/100\n",
      "614/614 [==============================] - 1s 2ms/step - loss: 0.3703 - accuracy: 0.8257\n",
      "Epoch 97/100\n",
      "614/614 [==============================] - 1s 2ms/step - loss: 0.3654 - accuracy: 0.8469\n",
      "Epoch 98/100\n",
      "614/614 [==============================] - 1s 2ms/step - loss: 0.3626 - accuracy: 0.8436\n",
      "Epoch 99/100\n",
      "614/614 [==============================] - 1s 2ms/step - loss: 0.3714 - accuracy: 0.8274\n",
      "Epoch 100/100\n",
      "614/614 [==============================] - 1s 2ms/step - loss: 0.3610 - accuracy: 0.8388\n"
     ]
    }
   ],
   "source": [
    "model.compile(loss = 'binary_crossentropy', optimizer = 'sgd', metrics = ['accuracy'])\n",
    "historial = model.fit(X_train, y_train, epochs = 100, batch_size = 1, verbose = 1)"
   ]
  },
  {
   "cell_type": "code",
   "execution_count": 27,
   "metadata": {},
   "outputs": [
    {
     "name": "stdout",
     "output_type": "stream",
     "text": [
      "Model: \"sequential\"\n",
      "_________________________________________________________________\n",
      "Layer (type)                 Output Shape              Param #   \n",
      "=================================================================\n",
      "dense (Dense)                (None, 8)                 72        \n",
      "_________________________________________________________________\n",
      "dense_1 (Dense)              (None, 10)                90        \n",
      "_________________________________________________________________\n",
      "dense_2 (Dense)              (None, 1)                 11        \n",
      "=================================================================\n",
      "Total params: 173\n",
      "Trainable params: 173\n",
      "Non-trainable params: 0\n",
      "_________________________________________________________________\n"
     ]
    }
   ],
   "source": [
    "model.summary()"
   ]
  },
  {
   "cell_type": "markdown",
   "metadata": {},
   "source": [
    "## Visualizamos la curva de entrenamiento"
   ]
  },
  {
   "cell_type": "code",
   "execution_count": 30,
   "metadata": {},
   "outputs": [
    {
     "data": {
      "image/png": "[encoded data removed]",
      "text/plain": [
       "<Figure size 432x288 with 1 Axes>"
      ]
     },
     "metadata": {
      "needs_background": "light"
     },
     "output_type": "display_data"
    }
   ],
   "source": [
    "pp.plot(historial.history['accuracy'])\n",
    "pp.title('Precisión en el entrenamiento de la RNA')\n",
    "pp.ylabel('Precisión')\n",
    "pp.xlabel('Épocas')\n",
    "pp.grid(True)\n",
    "pp.show()"
   ]
  },
  {
   "cell_type": "markdown",
   "metadata": {},
   "source": [
    "## Comparación de Entrenamiento vs Validación (Train vs Test)"
   ]
  },
  {
   "cell_type": "code",
   "execution_count": 37,
   "metadata": {},
   "outputs": [
    {
     "name": "stdout",
     "output_type": "stream",
     "text": [
      "Epoch 1/100\n",
      "614/614 [==============================] - 1s 2ms/step - loss: 0.5530 - accuracy: 0.7329 - val_loss: 0.5382 - val_accuracy: 0.7532\n",
      "Epoch 2/100\n",
      "614/614 [==============================] - 1s 2ms/step - loss: 0.5047 - accuracy: 0.7573 - val_loss: 0.5173 - val_accuracy: 0.7468\n",
      "Epoch 3/100\n",
      "614/614 [==============================] - 1s 2ms/step - loss: 0.4893 - accuracy: 0.7769 - val_loss: 0.5129 - val_accuracy: 0.7532\n",
      "Epoch 4/100\n",
      "614/614 [==============================] - 1s 2ms/step - loss: 0.4761 - accuracy: 0.7785 - val_loss: 0.5021 - val_accuracy: 0.7662\n",
      "Epoch 5/100\n",
      "614/614 [==============================] - 1s 2ms/step - loss: 0.4735 - accuracy: 0.7655 - val_loss: 0.5125 - val_accuracy: 0.7597\n",
      "Epoch 6/100\n",
      "614/614 [==============================] - 1s 2ms/step - loss: 0.4679 - accuracy: 0.7785 - val_loss: 0.5127 - val_accuracy: 0.7597\n",
      "Epoch 7/100\n",
      "614/614 [==============================] - 1s 2ms/step - loss: 0.4616 - accuracy: 0.7850 - val_loss: 0.5370 - val_accuracy: 0.7468\n",
      "Epoch 8/100\n",
      "614/614 [==============================] - 1s 2ms/step - loss: 0.4607 - accuracy: 0.7850 - val_loss: 0.4998 - val_accuracy: 0.7792\n",
      "Epoch 9/100\n",
      "614/614 [==============================] - 1s 2ms/step - loss: 0.4529 - accuracy: 0.7622 - val_loss: 0.5066 - val_accuracy: 0.7468\n",
      "Epoch 10/100\n",
      "614/614 [==============================] - 1s 2ms/step - loss: 0.4509 - accuracy: 0.7834 - val_loss: 0.5023 - val_accuracy: 0.7597\n",
      "Epoch 11/100\n",
      "614/614 [==============================] - 1s 2ms/step - loss: 0.4476 - accuracy: 0.7883 - val_loss: 0.5089 - val_accuracy: 0.7468\n",
      "Epoch 12/100\n",
      "614/614 [==============================] - 1s 2ms/step - loss: 0.4507 - accuracy: 0.7752 - val_loss: 0.4980 - val_accuracy: 0.7532\n",
      "Epoch 13/100\n",
      "614/614 [==============================] - 1s 2ms/step - loss: 0.4463 - accuracy: 0.7801 - val_loss: 0.5114 - val_accuracy: 0.7662\n",
      "Epoch 14/100\n",
      "614/614 [==============================] - 1s 2ms/step - loss: 0.4422 - accuracy: 0.7834 - val_loss: 0.5054 - val_accuracy: 0.7532\n",
      "Epoch 15/100\n",
      "614/614 [==============================] - 1s 2ms/step - loss: 0.4400 - accuracy: 0.7752 - val_loss: 0.4966 - val_accuracy: 0.7532\n",
      "Epoch 16/100\n",
      "614/614 [==============================] - 1s 2ms/step - loss: 0.4318 - accuracy: 0.7866 - val_loss: 0.5026 - val_accuracy: 0.7597\n",
      "Epoch 17/100\n",
      "614/614 [==============================] - 1s 2ms/step - loss: 0.4291 - accuracy: 0.8013 - val_loss: 0.4882 - val_accuracy: 0.7532\n",
      "Epoch 18/100\n",
      "614/614 [==============================] - 1s 2ms/step - loss: 0.4259 - accuracy: 0.7801 - val_loss: 0.4779 - val_accuracy: 0.7922\n",
      "Epoch 19/100\n",
      "614/614 [==============================] - 1s 2ms/step - loss: 0.4273 - accuracy: 0.7850 - val_loss: 0.4750 - val_accuracy: 0.7727\n",
      "Epoch 20/100\n",
      "614/614 [==============================] - 1s 2ms/step - loss: 0.4244 - accuracy: 0.7997 - val_loss: 0.4966 - val_accuracy: 0.7597\n",
      "Epoch 21/100\n",
      "614/614 [==============================] - 1s 2ms/step - loss: 0.4234 - accuracy: 0.7818 - val_loss: 0.5156 - val_accuracy: 0.7727\n",
      "Epoch 22/100\n",
      "614/614 [==============================] - 1s 2ms/step - loss: 0.4248 - accuracy: 0.7752 - val_loss: 0.4908 - val_accuracy: 0.7792\n",
      "Epoch 23/100\n",
      "614/614 [==============================] - 1s 2ms/step - loss: 0.4175 - accuracy: 0.7915 - val_loss: 0.4834 - val_accuracy: 0.7597\n",
      "Epoch 24/100\n",
      "614/614 [==============================] - 1s 2ms/step - loss: 0.4164 - accuracy: 0.7932 - val_loss: 0.5241 - val_accuracy: 0.7922\n",
      "Epoch 25/100\n",
      "614/614 [==============================] - 1s 2ms/step - loss: 0.4193 - accuracy: 0.7883 - val_loss: 0.4713 - val_accuracy: 0.7532\n",
      "Epoch 26/100\n",
      "614/614 [==============================] - 1s 2ms/step - loss: 0.4117 - accuracy: 0.7980 - val_loss: 0.4787 - val_accuracy: 0.7468\n",
      "Epoch 27/100\n",
      "614/614 [==============================] - 1s 2ms/step - loss: 0.4138 - accuracy: 0.8062 - val_loss: 0.4925 - val_accuracy: 0.7662\n",
      "Epoch 28/100\n",
      "614/614 [==============================] - 1s 2ms/step - loss: 0.4108 - accuracy: 0.7915 - val_loss: 0.4767 - val_accuracy: 0.7597\n",
      "Epoch 29/100\n",
      "614/614 [==============================] - 1s 2ms/step - loss: 0.4101 - accuracy: 0.8029 - val_loss: 0.4677 - val_accuracy: 0.7662\n",
      "Epoch 30/100\n",
      "614/614 [==============================] - 1s 2ms/step - loss: 0.4136 - accuracy: 0.7932 - val_loss: 0.4760 - val_accuracy: 0.7662\n",
      "Epoch 31/100\n",
      "614/614 [==============================] - 1s 2ms/step - loss: 0.4066 - accuracy: 0.7932 - val_loss: 0.4841 - val_accuracy: 0.7922\n",
      "Epoch 32/100\n",
      "614/614 [==============================] - 1s 2ms/step - loss: 0.4095 - accuracy: 0.7915 - val_loss: 0.5017 - val_accuracy: 0.7792\n",
      "Epoch 33/100\n",
      "614/614 [==============================] - 1s 2ms/step - loss: 0.4060 - accuracy: 0.7964 - val_loss: 0.4596 - val_accuracy: 0.7857\n",
      "Epoch 34/100\n",
      "614/614 [==============================] - 1s 2ms/step - loss: 0.4065 - accuracy: 0.7980 - val_loss: 0.4815 - val_accuracy: 0.7662\n",
      "Epoch 35/100\n",
      "614/614 [==============================] - 1s 2ms/step - loss: 0.4056 - accuracy: 0.7883 - val_loss: 0.4902 - val_accuracy: 0.7792\n",
      "Epoch 36/100\n",
      "614/614 [==============================] - 1s 2ms/step - loss: 0.4037 - accuracy: 0.7899 - val_loss: 0.4726 - val_accuracy: 0.7857\n",
      "Epoch 37/100\n",
      "614/614 [==============================] - 1s 2ms/step - loss: 0.4048 - accuracy: 0.7915 - val_loss: 0.4803 - val_accuracy: 0.7857\n",
      "Epoch 38/100\n",
      "614/614 [==============================] - 1s 2ms/step - loss: 0.4016 - accuracy: 0.8062 - val_loss: 0.4758 - val_accuracy: 0.7857\n",
      "Epoch 39/100\n",
      "614/614 [==============================] - 1s 2ms/step - loss: 0.4009 - accuracy: 0.7948 - val_loss: 0.4661 - val_accuracy: 0.7662\n",
      "Epoch 40/100\n",
      "614/614 [==============================] - 1s 2ms/step - loss: 0.3954 - accuracy: 0.8094 - val_loss: 0.4912 - val_accuracy: 0.7662\n",
      "Epoch 41/100\n",
      "614/614 [==============================] - 1s 2ms/step - loss: 0.3968 - accuracy: 0.8013 - val_loss: 0.4988 - val_accuracy: 0.7468\n",
      "Epoch 42/100\n",
      "614/614 [==============================] - 1s 2ms/step - loss: 0.3935 - accuracy: 0.8013 - val_loss: 0.4757 - val_accuracy: 0.7857\n",
      "Epoch 43/100\n",
      "614/614 [==============================] - 1s 2ms/step - loss: 0.3946 - accuracy: 0.8094 - val_loss: 0.5076 - val_accuracy: 0.7597\n",
      "Epoch 44/100\n",
      "614/614 [==============================] - 1s 2ms/step - loss: 0.3921 - accuracy: 0.8013 - val_loss: 0.4931 - val_accuracy: 0.7532\n",
      "Epoch 45/100\n",
      "614/614 [==============================] - 1s 2ms/step - loss: 0.3928 - accuracy: 0.7997 - val_loss: 0.4867 - val_accuracy: 0.7662\n",
      "Epoch 46/100\n",
      "614/614 [==============================] - 1s 2ms/step - loss: 0.3895 - accuracy: 0.7980 - val_loss: 0.5131 - val_accuracy: 0.7468\n",
      "Epoch 47/100\n",
      "614/614 [==============================] - 1s 2ms/step - loss: 0.3887 - accuracy: 0.8062 - val_loss: 0.4746 - val_accuracy: 0.7792\n",
      "Epoch 48/100\n",
      "614/614 [==============================] - 1s 2ms/step - loss: 0.3889 - accuracy: 0.8094 - val_loss: 0.4915 - val_accuracy: 0.7727\n",
      "Epoch 49/100\n",
      "614/614 [==============================] - 1s 2ms/step - loss: 0.3926 - accuracy: 0.8029 - val_loss: 0.4909 - val_accuracy: 0.7662\n",
      "Epoch 50/100\n",
      "614/614 [==============================] - 1s 2ms/step - loss: 0.3871 - accuracy: 0.8062 - val_loss: 0.4898 - val_accuracy: 0.7727\n",
      "Epoch 51/100\n",
      "614/614 [==============================] - 1s 2ms/step - loss: 0.3888 - accuracy: 0.8046 - val_loss: 0.4816 - val_accuracy: 0.7662\n",
      "Epoch 52/100\n",
      "614/614 [==============================] - 1s 2ms/step - loss: 0.3839 - accuracy: 0.8062 - val_loss: 0.5194 - val_accuracy: 0.7468\n",
      "Epoch 53/100\n",
      "614/614 [==============================] - 1s 2ms/step - loss: 0.3845 - accuracy: 0.8111 - val_loss: 0.5272 - val_accuracy: 0.7338\n",
      "Epoch 54/100\n",
      "614/614 [==============================] - 1s 2ms/step - loss: 0.3830 - accuracy: 0.8176 - val_loss: 0.5449 - val_accuracy: 0.7597\n",
      "Epoch 55/100\n",
      "614/614 [==============================] - 1s 2ms/step - loss: 0.3847 - accuracy: 0.8176 - val_loss: 0.5020 - val_accuracy: 0.7597\n",
      "Epoch 56/100\n",
      "614/614 [==============================] - 1s 2ms/step - loss: 0.3778 - accuracy: 0.8143 - val_loss: 0.5141 - val_accuracy: 0.7597\n",
      "Epoch 57/100\n",
      "614/614 [==============================] - 1s 2ms/step - loss: 0.3821 - accuracy: 0.8160 - val_loss: 0.5284 - val_accuracy: 0.7532\n"
     ]
    },
    {
     "name": "stdout",
     "output_type": "stream",
     "text": [
      "Epoch 58/100\n",
      "614/614 [==============================] - 1s 2ms/step - loss: 0.3713 - accuracy: 0.8306 - val_loss: 0.5038 - val_accuracy: 0.7662\n",
      "Epoch 59/100\n",
      "614/614 [==============================] - 1s 2ms/step - loss: 0.3768 - accuracy: 0.8176 - val_loss: 0.4832 - val_accuracy: 0.7662\n",
      "Epoch 60/100\n",
      "614/614 [==============================] - 1s 2ms/step - loss: 0.3798 - accuracy: 0.8176 - val_loss: 0.4924 - val_accuracy: 0.7468\n",
      "Epoch 61/100\n",
      "614/614 [==============================] - 1s 2ms/step - loss: 0.3771 - accuracy: 0.8160 - val_loss: 0.5387 - val_accuracy: 0.7532\n",
      "Epoch 62/100\n",
      "614/614 [==============================] - 1s 2ms/step - loss: 0.3768 - accuracy: 0.8225 - val_loss: 0.4967 - val_accuracy: 0.7922\n",
      "Epoch 63/100\n",
      "614/614 [==============================] - 1s 2ms/step - loss: 0.3751 - accuracy: 0.8127 - val_loss: 0.5245 - val_accuracy: 0.7532\n",
      "Epoch 64/100\n",
      "614/614 [==============================] - 1s 2ms/step - loss: 0.3799 - accuracy: 0.8241 - val_loss: 0.5053 - val_accuracy: 0.7727\n",
      "Epoch 65/100\n",
      "614/614 [==============================] - 1s 2ms/step - loss: 0.3768 - accuracy: 0.8257 - val_loss: 0.4805 - val_accuracy: 0.7468\n",
      "Epoch 66/100\n",
      "614/614 [==============================] - 1s 2ms/step - loss: 0.3797 - accuracy: 0.8094 - val_loss: 0.4881 - val_accuracy: 0.7662\n",
      "Epoch 67/100\n",
      "614/614 [==============================] - 1s 2ms/step - loss: 0.3768 - accuracy: 0.8225 - val_loss: 0.5098 - val_accuracy: 0.7662\n",
      "Epoch 68/100\n",
      "614/614 [==============================] - 1s 2ms/step - loss: 0.3808 - accuracy: 0.8306 - val_loss: 0.5151 - val_accuracy: 0.7597\n",
      "Epoch 69/100\n",
      "614/614 [==============================] - 1s 2ms/step - loss: 0.3767 - accuracy: 0.8176 - val_loss: 0.5131 - val_accuracy: 0.7727\n",
      "Epoch 70/100\n",
      "614/614 [==============================] - 1s 2ms/step - loss: 0.3747 - accuracy: 0.8192 - val_loss: 0.4902 - val_accuracy: 0.7662\n",
      "Epoch 71/100\n",
      "614/614 [==============================] - 1s 2ms/step - loss: 0.3761 - accuracy: 0.8274 - val_loss: 0.4992 - val_accuracy: 0.7857\n",
      "Epoch 72/100\n",
      "614/614 [==============================] - 1s 2ms/step - loss: 0.3729 - accuracy: 0.8241 - val_loss: 0.4927 - val_accuracy: 0.7727\n",
      "Epoch 73/100\n",
      "614/614 [==============================] - 1s 2ms/step - loss: 0.3737 - accuracy: 0.8225 - val_loss: 0.4954 - val_accuracy: 0.7597\n",
      "Epoch 74/100\n",
      "614/614 [==============================] - 1s 2ms/step - loss: 0.3765 - accuracy: 0.8208 - val_loss: 0.5209 - val_accuracy: 0.7532\n",
      "Epoch 75/100\n",
      "614/614 [==============================] - 1s 2ms/step - loss: 0.3708 - accuracy: 0.8257 - val_loss: 0.5021 - val_accuracy: 0.7727\n",
      "Epoch 76/100\n",
      "614/614 [==============================] - 1s 2ms/step - loss: 0.3739 - accuracy: 0.8322 - val_loss: 0.4976 - val_accuracy: 0.7792\n",
      "Epoch 77/100\n",
      "614/614 [==============================] - 1s 2ms/step - loss: 0.3738 - accuracy: 0.8241 - val_loss: 0.5075 - val_accuracy: 0.7597\n",
      "Epoch 78/100\n",
      "614/614 [==============================] - 1s 2ms/step - loss: 0.3679 - accuracy: 0.8322 - val_loss: 0.5079 - val_accuracy: 0.7532\n",
      "Epoch 79/100\n",
      "614/614 [==============================] - 1s 2ms/step - loss: 0.3693 - accuracy: 0.8339 - val_loss: 0.5307 - val_accuracy: 0.7338\n",
      "Epoch 80/100\n",
      "614/614 [==============================] - 1s 2ms/step - loss: 0.3625 - accuracy: 0.8322 - val_loss: 0.5790 - val_accuracy: 0.7468\n",
      "Epoch 81/100\n",
      "614/614 [==============================] - 1s 2ms/step - loss: 0.3702 - accuracy: 0.8290 - val_loss: 0.5101 - val_accuracy: 0.7597\n",
      "Epoch 82/100\n",
      "614/614 [==============================] - 1s 2ms/step - loss: 0.3692 - accuracy: 0.8290 - val_loss: 0.5350 - val_accuracy: 0.7792\n",
      "Epoch 83/100\n",
      "614/614 [==============================] - 1s 2ms/step - loss: 0.3680 - accuracy: 0.8290 - val_loss: 0.5124 - val_accuracy: 0.7922\n",
      "Epoch 84/100\n",
      "614/614 [==============================] - 1s 2ms/step - loss: 0.3696 - accuracy: 0.8241 - val_loss: 0.5357 - val_accuracy: 0.7597\n",
      "Epoch 85/100\n",
      "614/614 [==============================] - 1s 2ms/step - loss: 0.3626 - accuracy: 0.8339 - val_loss: 0.5827 - val_accuracy: 0.7338\n",
      "Epoch 86/100\n",
      "614/614 [==============================] - 1s 2ms/step - loss: 0.3643 - accuracy: 0.8306 - val_loss: 0.5085 - val_accuracy: 0.7857\n",
      "Epoch 87/100\n",
      "614/614 [==============================] - 1s 2ms/step - loss: 0.3674 - accuracy: 0.8290 - val_loss: 0.5702 - val_accuracy: 0.7208\n",
      "Epoch 88/100\n",
      "614/614 [==============================] - 1s 2ms/step - loss: 0.3626 - accuracy: 0.8339 - val_loss: 0.5240 - val_accuracy: 0.7662\n",
      "Epoch 89/100\n",
      "614/614 [==============================] - 1s 2ms/step - loss: 0.3676 - accuracy: 0.8404 - val_loss: 0.5146 - val_accuracy: 0.7597\n",
      "Epoch 90/100\n",
      "614/614 [==============================] - 1s 2ms/step - loss: 0.3584 - accuracy: 0.8274 - val_loss: 0.5210 - val_accuracy: 0.7532\n",
      "Epoch 91/100\n",
      "614/614 [==============================] - 1s 2ms/step - loss: 0.3599 - accuracy: 0.8404 - val_loss: 0.5088 - val_accuracy: 0.7727\n",
      "Epoch 92/100\n",
      "614/614 [==============================] - 1s 2ms/step - loss: 0.3574 - accuracy: 0.8274 - val_loss: 0.6493 - val_accuracy: 0.7403\n",
      "Epoch 93/100\n",
      "614/614 [==============================] - 1s 2ms/step - loss: 0.3677 - accuracy: 0.8355 - val_loss: 0.5208 - val_accuracy: 0.7597\n",
      "Epoch 94/100\n",
      "614/614 [==============================] - 1s 2ms/step - loss: 0.3567 - accuracy: 0.8420 - val_loss: 0.5368 - val_accuracy: 0.7727\n",
      "Epoch 95/100\n",
      "614/614 [==============================] - 1s 2ms/step - loss: 0.3616 - accuracy: 0.8257 - val_loss: 0.5442 - val_accuracy: 0.7468\n",
      "Epoch 96/100\n",
      "614/614 [==============================] - 1s 2ms/step - loss: 0.3579 - accuracy: 0.8339 - val_loss: 0.5503 - val_accuracy: 0.7727\n",
      "Epoch 97/100\n",
      "614/614 [==============================] - 1s 2ms/step - loss: 0.3593 - accuracy: 0.8290 - val_loss: 0.5775 - val_accuracy: 0.7403\n",
      "Epoch 98/100\n",
      "614/614 [==============================] - 1s 2ms/step - loss: 0.3595 - accuracy: 0.8306 - val_loss: 0.5525 - val_accuracy: 0.7468\n",
      "Epoch 99/100\n",
      "614/614 [==============================] - 1s 2ms/step - loss: 0.3521 - accuracy: 0.8388 - val_loss: 0.6747 - val_accuracy: 0.7143\n",
      "Epoch 100/100\n",
      "614/614 [==============================] - 1s 2ms/step - loss: 0.3549 - accuracy: 0.8257 - val_loss: 0.6124 - val_accuracy: 0.7208\n"
     ]
    }
   ],
   "source": [
    "model = Sequential()\n",
    "model.add(Dense(8, activation = 'relu', input_shape = (8, )))\n",
    "model.add(Dense(7, activation = 'relu'))\n",
    "model.add(Dense(1, activation = 'sigmoid'))\n",
    "\n",
    "model.compile(loss = 'binary_crossentropy', optimizer = 'sgd', metrics = ['accuracy'])\n",
    "historial = model.fit(X_Standard, data.Outcome, validation_split = 0.2, \n",
    "                      epochs = 100, batch_size = 1, verbose = 1)"
   ]
  },
  {
   "cell_type": "code",
   "execution_count": 38,
   "metadata": {},
   "outputs": [
    {
     "data": {
      "image/png": "[encoded data removed]",
      "text/plain": [
       "<Figure size 432x288 with 1 Axes>"
      ]
     },
     "metadata": {
      "needs_background": "light"
     },
     "output_type": "display_data"
    }
   ],
   "source": [
    "pp.plot(historial.history['accuracy'])\n",
    "pp.plot(historial.history['val_accuracy'])\n",
    "pp.title('Precisión del Modelo (Train vs Test)')\n",
    "pp.ylabel('Precisión')\n",
    "pp.xlabel('Épocas')\n",
    "pp.legend(['train','test'], loc = 'upper right')\n",
    "pp.grid(True)\n",
    "pp.show()"
   ]
  },
  {
   "cell_type": "code",
   "execution_count": null,
   "metadata": {},
   "outputs": [],
   "source": []
  }
 ],
 "metadata": {
  "kernelspec": {
   "display_name": "Tensorflow-GPU",
   "language": "python",
   "name": "tensorflow-gpu"
  },
  "language_info": {
   "codemirror_mode": {
    "name": "ipython",
    "version": 3
   },
   "file_extension": ".py",
   "mimetype": "text/x-python",
   "name": "python",
   "nbconvert_exporter": "python",
   "pygments_lexer": "ipython3",
   "version": "3.8.5"
  }
 },
 "nbformat": 4,
 "nbformat_minor": 4
}
